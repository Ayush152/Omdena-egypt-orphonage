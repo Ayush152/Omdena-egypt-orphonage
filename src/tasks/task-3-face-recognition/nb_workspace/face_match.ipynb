{
 "cells": [
  {
   "cell_type": "markdown",
   "metadata": {},
   "source": [
    "# Face Recognition"
   ]
  },
  {
   "cell_type": "markdown",
   "metadata": {},
   "source": [
    "## Installing Required Packages\n",
    "Important Note: during installing deepface package, in its dependancy, it downloads tensorflow cpu optimized package, and not the GPU version.\n",
    "\n",
    "To Make deepface work on GPU: Create an environment with installed tensorlow-GPU Cuda support, then install the deepface package."
   ]
  },
  {
   "cell_type": "code",
   "execution_count": 1,
   "metadata": {},
   "outputs": [],
   "source": [
    "# !pip install deepface\n",
    "# !pip install Deprecated\n",
    "# !pip uninstall opencv-python -y\n",
    "# !pip install opencv-contrib-python"
   ]
  },
  {
   "cell_type": "markdown",
   "metadata": {},
   "source": [
    "## Importing Required Libararies and Packages"
   ]
  },
  {
   "cell_type": "code",
   "execution_count": 2,
   "metadata": {},
   "outputs": [
    {
     "name": "stderr",
     "output_type": "stream",
     "text": [
      "2023-09-18 13:44:56.984419: I tensorflow/core/platform/cpu_feature_guard.cc:182] This TensorFlow binary is optimized to use available CPU instructions in performance-critical operations.\n",
      "To enable the following instructions: AVX2 FMA, in other operations, rebuild TensorFlow with the appropriate compiler flags.\n",
      "2023-09-18 13:44:57.626023: W tensorflow/compiler/tf2tensorrt/utils/py_utils.cc:38] TF-TRT Warning: Could not find TensorRT\n"
     ]
    }
   ],
   "source": [
    "import warnings\n",
    "warnings.filterwarnings('ignore')\n",
    "\n",
    "import os\n",
    "import time\n",
    "\n",
    "import numpy as np, pandas as pd\n",
    "\n",
    "import cv2\n",
    "\n",
    "# from deepface import DeepFace\n",
    "from deepface_modified import DeepFace"
   ]
  },
  {
   "cell_type": "markdown",
   "metadata": {},
   "source": [
    "# Function Definitions"
   ]
  },
  {
   "cell_type": "code",
   "execution_count": 11,
   "metadata": {},
   "outputs": [],
   "source": [
    "\"\"\"\n",
    "    Modifiying the predefined method of the app class in InsightFace:FaceAnalysis Class, to have a label paramters to set on the image detection.\n",
    "\"\"\"\n",
    "\n",
    "def custom_draw_on(img, faces, label_lst):\n",
    "    \"\"\"\n",
    "        Function used to draw rectangular box around the detected faces with their labels.\n",
    "    \"\"\"\n",
    "    \n",
    "    for i,face in enumerate(faces):\n",
    "        box = face['facial_area']\n",
    "        color = (0, 0, 255)\n",
    "        cv2.rectangle(img, (box['x'], box['y']), (box['x']+box['w'], box['y']+box['h']), color, 2)\n",
    "        cv2.putText(img, label_lst[i], (box['x']-1, box['y']-4),cv2.FONT_HERSHEY_COMPLEX,0.7,(0,255,0),1)\n",
    "\n",
    "    return img\n",
    "\n",
    "def load_label_csv(label_path)->pd.DataFrame:\n",
    "    \"\"\"\n",
    "        Function used to load csv label file\n",
    "    \"\"\"\n",
    "    # Load Label CSV file\n",
    "    # Step: Searching for a csv file locatted in this directory\n",
    "    for file in os.listdir(label_path):\n",
    "        if file.endswith(\".csv\"): \n",
    "            csv_path = os.path.join(label_path, file)\n",
    "\n",
    "    # Step: load the csv label file\n",
    "    return pd.read_csv(csv_path)\n",
    "\n",
    "\n",
    "def face_recognition(\n",
    "        img_path=None,\n",
    "        label_path=None,\n",
    "        face_detection_model='retinaface',\n",
    "        face_recognition_model='ArcFace',\n",
    "        enforce_detection=True,\n",
    "        ):\n",
    "    \"\"\"\n",
    "        This function could be used using the original deepface package without any modification in the package.\n",
    "    \"\"\"\n",
    "    # Load Label CSV file\n",
    "    df_label = load_label_csv(label_path=label_path)\n",
    "\n",
    "    # Detect Faces\n",
    "    detected_faces = DeepFace.extract_faces(\n",
    "        img_path=img_path,\n",
    "        detector_backend=face_detection_model\n",
    "    )\n",
    "\n",
    "    # Recognitize Faces with labels in database\n",
    "    found_faces = DeepFace.find(img_path=img_path,\n",
    "                db_path=label_path,\n",
    "                model_name=face_recognition_model,\n",
    "                detector_backend=face_detection_model,\n",
    "                enforce_detection=enforce_detection)\n",
    "\n",
    "    # Define label list\n",
    "    label_lst = []\n",
    "\n",
    "    for found_face in found_faces:\n",
    "        \n",
    "        img_label = 'UnKown'\n",
    "\n",
    "        if len(found_face) != 0:\n",
    "\n",
    "            # Face was detected\n",
    "            # Pick the highest similarity\n",
    "            found_face = found_face[\n",
    "                found_face.ArcFace_cosine == found_face.ArcFace_cosine.max()\n",
    "                ]\n",
    "            \n",
    "            # checking the ArcFace_cosine threshold\n",
    "            thr = 0.25\n",
    "            \n",
    "            if found_face['ArcFace_cosine'].values[0]> thr:\n",
    "                img_label_path = found_face['identity'].values[0]\n",
    "                img_label = img_label_path.split('/')[-1].split('.')[0]\n",
    "                # img_label = df_label[df_label.image_name == img_label_path[img_label_path.rfind('/') + 1:]]['label'].values[0]\n",
    "                \n",
    "        label_lst.append(img_label)\n",
    "\n",
    "        \n",
    "    if isinstance(img_path, str):\n",
    "        img = cv2.imread(img_path)\n",
    "\n",
    "        rimg= custom_draw_on(img, detected_faces, label_lst)\n",
    "\n",
    "        print(f\"Recognitioned Faces in {img_path} are: {label_lst}. Exported image with detected faces at: ../report/plots/{img_path.split('/')[-1]}\")\n",
    "\n",
    "    else:\n",
    "        rimg= custom_draw_on(img_path, detected_faces, label_lst)\n",
    "\n",
    "    return rimg\n",
    "\n",
    "\n",
    "def face_recognition_optimized(\n",
    "        img_path=None,\n",
    "        label_path=None,\n",
    "        face_detection_model='retinaface',\n",
    "        face_recognition_model='ArcFace',\n",
    "        enforce_detection=True,\n",
    "        ):\n",
    "    \"\"\"\n",
    "        This function could only be used by using the modified deepface package.\n",
    "    \"\"\"\n",
    "    # Load Label CSV file\n",
    "    df_label = load_label_csv(label_path=label_path)\n",
    "\n",
    "    # Detect Faces\n",
    "    detected_faces = DeepFace.extract_faces(\n",
    "        img_path=img_path,\n",
    "        detector_backend=face_detection_model\n",
    "    )\n",
    "\n",
    "    found_faces = DeepFace.find_modified(detected_faces,\n",
    "                db_path=label_path,\n",
    "                model_name=face_recognition_model,\n",
    "                detector_backend='skip',\n",
    "                enforce_detection=enforce_detection)\n",
    "\n",
    "    # Define label list\n",
    "    label_lst = []\n",
    "\n",
    "    for found_face in found_faces:\n",
    "        \n",
    "        img_label = 'UnKown'\n",
    "\n",
    "        if len(found_face) != 0:\n",
    "\n",
    "            # Face was detected\n",
    "            # Pick the highest similarity\n",
    "            found_face = found_face[\n",
    "                found_face.ArcFace_cosine == found_face.ArcFace_cosine.max()\n",
    "                ]\n",
    "            \n",
    "            # checking the ArcFace_cosine threshold\n",
    "            thr = 0.25\n",
    "            \n",
    "            if found_face['ArcFace_cosine'].values[0]> thr:\n",
    "                img_label_path = found_face['identity'].values[0]\n",
    "                img_label = img_label_path.split('/')[-1].split('.')[0]\n",
    "                # img_label = df_label[df_label.image_name == img_label_path[img_label_path.rfind('/') + 1:]]['label'].values[0]\n",
    "                \n",
    "        label_lst.append(img_label)\n",
    "\n",
    "    if isinstance(img_path, str):\n",
    "        img = cv2.imread(img_path)\n",
    "\n",
    "        rimg= custom_draw_on(img, detected_faces, label_lst)\n",
    "\n",
    "        print(f\"Recognitioned Faces in {img_path} are: {label_lst}. Exported image with detected faces at: ../report/plots/{img_path.split('/')[-1]}\")\n",
    "\n",
    "    else:\n",
    "        rimg= custom_draw_on(img_path, detected_faces, label_lst)\n",
    "\n",
    "    return rimg"
   ]
  },
  {
   "cell_type": "markdown",
   "metadata": {},
   "source": [
    "## Define Model Parameters"
   ]
  },
  {
   "cell_type": "code",
   "execution_count": 12,
   "metadata": {},
   "outputs": [],
   "source": [
    "face_recognition_model = 'ArcFace'\n",
    "face_detection_model = 'retinaface'\n",
    "\n",
    "# To force use GPU\n",
    "os.environ['CUDA_VISIBLE_DEVICES'] = '0'"
   ]
  },
  {
   "cell_type": "markdown",
   "metadata": {},
   "source": [
    "## Single Image Recognition\n",
    "Importing Note: In case of adding new labels into the label dataset, you have to delete the representation.pkl file."
   ]
  },
  {
   "cell_type": "code",
   "execution_count": 13,
   "metadata": {},
   "outputs": [
    {
     "name": "stdout",
     "output_type": "stream",
     "text": [
      "WARNING: Representations for images in ../data/label folder were previously stored in representations_arcface.pkl. If you added new instances after the creation, then please delete this file and call find function again. It will create it again.\n",
      "There are  13  representations found in  representations_arcface.pkl\n",
      "find function lasts  1.9721884727478027  seconds\n",
      "Recognitioned Faces in ../data/test/003_57612506.jpg are: ['Angelina Jolie']. Exported image with detected faces at: ../report/plots/003_57612506.jpg\n"
     ]
    },
    {
     "data": {
      "text/plain": [
       "True"
      ]
     },
     "execution_count": 13,
     "metadata": {},
     "output_type": "execute_result"
    }
   ],
   "source": [
    "test_images_directory = '../data/test/'\n",
    "label_path = '../data/label'\n",
    "test_img = '003_57612506.jpg'\n",
    "\n",
    "rimg = face_recognition(\n",
    "    img_path=test_images_directory+test_img,\n",
    "    label_path=label_path,\n",
    "    face_detection_model=face_detection_model,\n",
    "    face_recognition_model=face_recognition_model\n",
    ")\n",
    "\n",
    "# Output the labeled Image\n",
    "cv2.imwrite(f\"../report/plots/{test_img}\", rimg)"
   ]
  },
  {
   "cell_type": "markdown",
   "metadata": {},
   "source": [
    "## Optimizing the face recognition function"
   ]
  },
  {
   "cell_type": "code",
   "execution_count": 8,
   "metadata": {},
   "outputs": [
    {
     "name": "stdout",
     "output_type": "stream",
     "text": [
      "WARNING: Representations for images in ../data/label folder were previously stored in representations_arcface.pkl. If you added new instances after the creation, then please delete this file and call find function again. It will create it again.\n",
      "There are  13  representations found in  representations_arcface.pkl\n",
      "find function lasts  0.1484386920928955  seconds\n",
      "Recognitioned Faces in ../data/test/003_57612506.jpg are: ['UnKown']. Exported image with detected faces at: ../report/plots/003_57612506.jpg\n"
     ]
    },
    {
     "data": {
      "text/plain": [
       "True"
      ]
     },
     "execution_count": 8,
     "metadata": {},
     "output_type": "execute_result"
    }
   ],
   "source": [
    "test_images_directory = '../data/test/'\n",
    "label_path = '../data/label'\n",
    "test_img = '003_57612506.jpg'\n",
    "\n",
    "rimg = face_recognition_optimized(\n",
    "    img_path=test_images_directory+test_img,\n",
    "    label_path=label_path,\n",
    "    face_detection_model=face_detection_model,\n",
    "    face_recognition_model=face_recognition_model\n",
    ")\n",
    "\n",
    "# Output the labeled Image\n",
    "cv2.imwrite(f\"../report/plots/{test_img}\", rimg)"
   ]
  },
  {
   "cell_type": "markdown",
   "metadata": {},
   "source": [
    "Experimental Results are that the function excution time decreases."
   ]
  },
  {
   "cell_type": "markdown",
   "metadata": {},
   "source": [
    "# Video Image"
   ]
  },
  {
   "cell_type": "code",
   "execution_count": 10,
   "metadata": {},
   "outputs": [
    {
     "name": "stdout",
     "output_type": "stream",
     "text": [
      "WARNING: Representations for images in ../data/label folder were previously stored in representations_arcface.pkl. If you added new instances after the creation, then please delete this file and call find function again. It will create it again.\n",
      "There are  13  representations found in  representations_arcface.pkl\n",
      "find function lasts  0.13845562934875488  seconds\n",
      "WARNING: Representations for images in ../data/label folder were previously stored in representations_arcface.pkl. If you added new instances after the creation, then please delete this file and call find function again. It will create it again.\n",
      "There are  13  representations found in  representations_arcface.pkl\n",
      "find function lasts  0.14006543159484863  seconds\n",
      "WARNING: Representations for images in ../data/label folder were previously stored in representations_arcface.pkl. If you added new instances after the creation, then please delete this file and call find function again. It will create it again.\n",
      "There are  13  representations found in  representations_arcface.pkl\n",
      "find function lasts  0.14933514595031738  seconds\n",
      "WARNING: Representations for images in ../data/label folder were previously stored in representations_arcface.pkl. If you added new instances after the creation, then please delete this file and call find function again. It will create it again.\n",
      "There are  13  representations found in  representations_arcface.pkl\n",
      "find function lasts  0.16929340362548828  seconds\n",
      "WARNING: Representations for images in ../data/label folder were previously stored in representations_arcface.pkl. If you added new instances after the creation, then please delete this file and call find function again. It will create it again.\n",
      "There are  13  representations found in  representations_arcface.pkl\n",
      "find function lasts  0.14266037940979004  seconds\n",
      "WARNING: Representations for images in ../data/label folder were previously stored in representations_arcface.pkl. If you added new instances after the creation, then please delete this file and call find function again. It will create it again.\n",
      "There are  13  representations found in  representations_arcface.pkl\n",
      "find function lasts  0.1362602710723877  seconds\n",
      "WARNING: Representations for images in ../data/label folder were previously stored in representations_arcface.pkl. If you added new instances after the creation, then please delete this file and call find function again. It will create it again.\n",
      "There are  13  representations found in  representations_arcface.pkl\n",
      "find function lasts  0.14474725723266602  seconds\n",
      "WARNING: Representations for images in ../data/label folder were previously stored in representations_arcface.pkl. If you added new instances after the creation, then please delete this file and call find function again. It will create it again.\n",
      "There are  13  representations found in  representations_arcface.pkl\n",
      "find function lasts  0.14725732803344727  seconds\n",
      "WARNING: Representations for images in ../data/label folder were previously stored in representations_arcface.pkl. If you added new instances after the creation, then please delete this file and call find function again. It will create it again.\n",
      "There are  13  representations found in  representations_arcface.pkl\n",
      "find function lasts  0.15896105766296387  seconds\n"
     ]
    }
   ],
   "source": [
    "test_images_directory = '../data/test/'\n",
    "label_path = '../data/label'\n",
    "\n",
    "# Create a video capture object\n",
    "cap = cv2.VideoCapture(0)\n",
    "# cap = cv2.VideoCapture(f\"{test_images_directory}Video3_chunk_8.mp4\")\n",
    "\n",
    "# Check if the video is opened successfully\n",
    "if not cap.isOpened():\n",
    "    print('Could not open the video file')\n",
    "    exit()\n",
    "\n",
    "# Set the capture buffer size\n",
    "cap.set(cv2.CAP_PROP_BUFFERSIZE, 1)\n",
    "\n",
    "# Set the desired FPS\n",
    "# cap.set(cv2.CAP_PROP_FPS, 60)\n",
    "\n",
    "# Loop through the video frames\n",
    "while True:\n",
    "    \n",
    "    ret, frame = cap.read()\n",
    "    \n",
    "    frame = face_recognition_optimized(\n",
    "        img_path=frame,\n",
    "        label_path=label_path,\n",
    "        face_detection_model=face_detection_model,\n",
    "        face_recognition_model=face_recognition_model\n",
    "    )\n",
    "    \n",
    "    cv2.imshow('frame', frame)\n",
    "\n",
    "    # Exit the loop if the user presses the 'q' key\n",
    "    if cv2.waitKey(1) & 0xFF == ord('q'):\n",
    "        break\n",
    "\n",
    "cap.release()\n",
    " \n",
    "cv2.destroyAllWindows()"
   ]
  },
  {
   "cell_type": "code",
   "execution_count": null,
   "metadata": {},
   "outputs": [],
   "source": []
  }
 ],
 "metadata": {
  "kernelspec": {
   "display_name": "cyshield_face",
   "language": "python",
   "name": "python3"
  },
  "language_info": {
   "codemirror_mode": {
    "name": "ipython",
    "version": 3
   },
   "file_extension": ".py",
   "mimetype": "text/x-python",
   "name": "python",
   "nbconvert_exporter": "python",
   "pygments_lexer": "ipython3",
   "version": "3.9.17"
  },
  "orig_nbformat": 4
 },
 "nbformat": 4,
 "nbformat_minor": 2
}
